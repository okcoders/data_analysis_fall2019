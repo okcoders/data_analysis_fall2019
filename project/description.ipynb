{
 "cells": [
  {
   "cell_type": "markdown",
   "metadata": {},
   "source": [
    "### OKCoders: Data Analytics Final Project\n",
    "#### *How Much Does a Strikeout Cost?*\n",
    "\n",
    "---"
   ]
  },
  {
   "cell_type": "markdown",
   "metadata": {},
   "source": [
    "#### Description\n",
    "\n",
    "I want you to use the Lahman database to determine how much a strikeout costs. From the 2016 edition of the Lahman baseball database I want you to analyze every pitcher for every team from 2007-2016 (10 years) that played in at least 10 games that year to derive a cost per strikeout for each team-year combination.\n",
    "\n",
    "I want you then to analyze a few factors to see if you can build a regression model that would let you \"get a good deal\" on a full team pitching staff based on any of a few candidate elements: \n",
    "+ weighted average career age (how long they have been playing for) of the pitching bullpen\n",
    "+ weighted average age of the pitching bullpen\n",
    "+ win-loss record ratio of the team over the prior year\n",
    "+ probability of a walk for a given at bat for that team. \n",
    "\n",
    "Please restrict all analysis within regular season games--October doesn't count.\n",
    "\n",
    "**Hint**: *We will be able to restrict our focus to 4 tables withing the database: Master, Pitching, Teams, and Salaries*\n",
    "\n",
    "#### Format\n",
    "\n",
    "Your analysis will be in the form of an analysis article written in a Jupyter Notebook. The writeup should have all relevant code as well as a description of the data, your methods, the model you build, and your analytical conclusions from it. The article should have 2-3 graphics made by plotting embedded where they further the story you want to tell.\n",
    "\n",
    "Though it will not be a part of your final writeup, please keep all code used to explore the datasets and learn about them (Exploratory Data Analysis). I will want to speak with you and see your exploratory process as you work on different aspects of your final output."
   ]
  }
 ],
 "metadata": {
  "kernelspec": {
   "display_name": "Python 3",
   "language": "python",
   "name": "python3"
  },
  "language_info": {
   "codemirror_mode": {
    "name": "ipython",
    "version": 3
   },
   "file_extension": ".py",
   "mimetype": "text/x-python",
   "name": "python",
   "nbconvert_exporter": "python",
   "pygments_lexer": "ipython3",
   "version": "3.7.4"
  }
 },
 "nbformat": 4,
 "nbformat_minor": 2
}
