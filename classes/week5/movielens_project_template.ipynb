{
 "cells": [
  {
   "cell_type": "markdown",
   "metadata": {},
   "source": [
    "## MovieLens Data Analysis\n",
    "##### by: Name Goes Here"
   ]
  },
  {
   "cell_type": "markdown",
   "metadata": {},
   "source": [
    "**Directions**: *we will be doing an analysis of the MovieLens dataset. Your analysis will be a combination of markdown text explaining what you are doing as well as the code and output conducting the analysis. You will see italics instructions throughout different cells here, but in each case I would like you to re-write the questions in your own words as you build your analysis. A person looking at your analysis should be able to read the text part only similarly to how they would an article or write-up. But, embedded with your analysis will be the code used to run all parts of it. The inclusion of plots in this analysis is entirely up to you and how you prefer to make your point.*\n",
    "\n",
    "**Note**: it is not necessary to follow every aspect of this rubric perfectly. I am more interested in you being expressive and showing off the completeness of your analytic abilties--both in code and communication. The ability to answer some of these questions may very well depend on you consulting the documentation and learning how to use slightly new tools that while they are similar to the ones we have worked on so far, may not literally be any of the ones we went over in class. Please use the time in class to make sure you have a good plan to do the individual things you need to, and feel free to ask us for help in coming up with that plan or figuring out how to use any new functionality you may need."
   ]
  },
  {
   "cell_type": "markdown",
   "metadata": {},
   "source": [
    "---\n",
    "Start your analysis with an overview of the dataset and some observations about it. This is commonly called Exploratory Data Analysis.\n",
    "\n",
    "Beyond this, pick 3 of the ideas below and build your analysis."
   ]
  },
  {
   "cell_type": "markdown",
   "metadata": {},
   "source": [
    "---\n",
    "Of all movies that have been tagged as \"time travel\", \"sci-fi\", \"space\", \"twist ending\"; show \n",
    "which 5 are the lowest average rated? Show only the title and average movie rating for each."
   ]
  },
  {
   "cell_type": "markdown",
   "metadata": {},
   "source": [
    "---\n",
    "Pick any of the top 10 most frequent tags that you think is interesting. Then, find what are the other most frequent tags associated with that tag. Perhaps consider writing this as a function where you could test a few different popular tags with little additional code."
   ]
  },
  {
   "cell_type": "markdown",
   "metadata": {},
   "source": [
    "---\n",
    "Which movies had the most consistent rankings where there was a lot of consensus? Which movies had the least consistent rankings showing a lack of consensus or some level of controversy?"
   ]
  },
  {
   "cell_type": "markdown",
   "metadata": {},
   "source": [
    "---\n",
    "Put all the ratings in order by their timestamp. Investigate with some line plots whether there are any interesting time-specific trends to those ratings. Is the spread any differnet? Is it getting easier or harder to get a good rating? Is the average rating getting any different over time?"
   ]
  },
  {
   "cell_type": "markdown",
   "metadata": {},
   "source": [
    "---\n",
    "Custom: come up with something interesting from your own exploration and use one of your analyses sections to explain it to the reader. It should be something non-obvious, but at the same time shows off your ability to use your technical capabilities to find someting interesting as well as your analytical capabilities to explain how it works to us."
   ]
  }
 ],
 "metadata": {
  "kernelspec": {
   "display_name": "Python 3",
   "language": "python",
   "name": "python3"
  },
  "language_info": {
   "codemirror_mode": {
    "name": "ipython",
    "version": 3
   },
   "file_extension": ".py",
   "mimetype": "text/x-python",
   "name": "python",
   "nbconvert_exporter": "python",
   "pygments_lexer": "ipython3",
   "version": "3.7.4"
  }
 },
 "nbformat": 4,
 "nbformat_minor": 2
}
