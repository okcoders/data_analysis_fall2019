{
 "cells": [
  {
   "cell_type": "markdown",
   "metadata": {},
   "source": [
    "### Basic Plotting"
   ]
  },
  {
   "cell_type": "code",
   "execution_count": null,
   "metadata": {},
   "outputs": [],
   "source": [
    "import pandas as pd\n",
    "import pydataset as ds"
   ]
  },
  {
   "cell_type": "code",
   "execution_count": null,
   "metadata": {},
   "outputs": [],
   "source": [
    "cars = ds.data('mtcars')"
   ]
  },
  {
   "cell_type": "code",
   "execution_count": null,
   "metadata": {},
   "outputs": [],
   "source": [
    "# Sometimes your plot may not render and you will need to use the magic trigger to\n",
    "# tell Jupyter to render the plot right there in the output.\n",
    "%matplotlib inline\n",
    "\n",
    "cars.mpg.plot.hist()"
   ]
  },
  {
   "cell_type": "code",
   "execution_count": null,
   "metadata": {},
   "outputs": [],
   "source": [
    "cars.disp.plot.hist()"
   ]
  },
  {
   "cell_type": "code",
   "execution_count": null,
   "metadata": {},
   "outputs": [],
   "source": [
    "# Can plot multiple histograms over each other, but will use the same scale--which may\n",
    "# or may not make sense.\n",
    "\n",
    "cars[[\"disp\", \"mpg\"]].plot.hist()"
   ]
  },
  {
   "cell_type": "code",
   "execution_count": null,
   "metadata": {},
   "outputs": [],
   "source": [
    "cars.plot.scatter(x = \"disp\", y = \"mpg\")"
   ]
  },
  {
   "cell_type": "code",
   "execution_count": null,
   "metadata": {},
   "outputs": [],
   "source": [
    "cars.plot.box()"
   ]
  },
  {
   "cell_type": "code",
   "execution_count": null,
   "metadata": {},
   "outputs": [],
   "source": [
    "# plot on its own will yield a line plot\n",
    "cars.plot()"
   ]
  },
  {
   "cell_type": "code",
   "execution_count": null,
   "metadata": {},
   "outputs": [],
   "source": [
    "cars[[\"disp\", \"hp\"]].plot()"
   ]
  },
  {
   "cell_type": "code",
   "execution_count": null,
   "metadata": {},
   "outputs": [],
   "source": [
    "cars[[\"disp\", \"hp\"]].sort_values(\"disp\", ascending = True).plot()"
   ]
  },
  {
   "cell_type": "code",
   "execution_count": null,
   "metadata": {},
   "outputs": [],
   "source": [
    "# The documentation knows all. This is their intro to making plots.\n",
    "# https://pandas.pydata.org/pandas-docs/stable/user_guide/visualization.html#visualization-box"
   ]
  },
  {
   "cell_type": "markdown",
   "metadata": {},
   "source": [
    "### Markdown\n",
    "\n",
    "Markdown is a way to combine text with some light syntax in a markdown style cell."
   ]
  },
  {
   "cell_type": "markdown",
   "metadata": {},
   "source": [
    "# This is a giant heading\n",
    "### This is a medium heading\n",
    "##### This is a small heading"
   ]
  },
  {
   "cell_type": "markdown",
   "metadata": {},
   "source": [
    "There are many ways to create text effects. If you put single stars on something, it makes it *italics*. Double stars makes it **bold**. Triple stars will give you ***some of each.***\n",
    "\n",
    "Putting a single tick mark will create `monospace font` similar to code. Triple quotes will create a whole code block (with code specific highlights).\n",
    "\n",
    "```python\n",
    "cars = ds.data('mtcars')\n",
    "cars.plot.hist()\n",
    "if (thing == \"triple_quoted\"):\n",
    "    print(\"yep\")\n",
    "```\n",
    "\n",
    "---\n",
    "\n",
    "```sql\n",
    "SELECT t.name, sum(t.value)\n",
    "FROM database.table as t\n",
    "WHERE t.value > 25\n",
    "GROUP BY t.name\n",
    "```"
   ]
  },
  {
   "cell_type": "markdown",
   "metadata": {},
   "source": [
    "It is easy to make lists as well.\n",
    "\n",
    "Bullets:\n",
    "+ Item\n",
    "+ Item\n",
    "    + Sub-Item\n",
    "    + Other Sub-Item\n",
    "\n",
    "Numbers\n",
    "1. Just\n",
    "2. Number\n",
    "3. Items\n",
    "4. Directly"
   ]
  },
  {
   "cell_type": "markdown",
   "metadata": {},
   "source": [
    "(Three hyphens make a break line)\n",
    "\n",
    "---\n",
    "\n",
    "Links by themselves become clickable: https://pandas.pydata.org/pandas-docs/stable/user_guide/visualization.html#visualization-box\n",
    "\n",
    "But you can make a more friendly thing to click on: [Pandas Visualization Docs](https://pandas.pydata.org/pandas-docs/stable/user_guide/visualization.html#visualization-box)"
   ]
  },
  {
   "cell_type": "markdown",
   "metadata": {},
   "source": [
    "You can also make quote blocks, similar to code blocks but without the font change.\n",
    "\n",
    "> Frank is one of the best OKCoders instructors we've ever had."
   ]
  }
 ],
 "metadata": {
  "kernelspec": {
   "display_name": "Python 3",
   "language": "python",
   "name": "python3"
  },
  "language_info": {
   "codemirror_mode": {
    "name": "ipython",
    "version": 3
   },
   "file_extension": ".py",
   "mimetype": "text/x-python",
   "name": "python",
   "nbconvert_exporter": "python",
   "pygments_lexer": "ipython3",
   "version": "3.7.4"
  }
 },
 "nbformat": 4,
 "nbformat_minor": 2
}
