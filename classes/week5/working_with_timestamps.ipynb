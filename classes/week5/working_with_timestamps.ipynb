{
 "cells": [
  {
   "cell_type": "markdown",
   "metadata": {},
   "source": [
    "## Dealing with Dates\n",
    "https://docs.python.org/3/library/datetime.html#datetime-objects"
   ]
  },
  {
   "cell_type": "code",
   "execution_count": null,
   "metadata": {},
   "outputs": [],
   "source": [
    "import datetime\n",
    "import pandas as pd\n",
    "\n",
    "dir_path = \"../../data/ml-latest-small\"\n",
    "ratings = pd.read_csv(f\"{dir_path}/ratings.csv\")\n",
    "ratings.head()"
   ]
  },
  {
   "cell_type": "code",
   "execution_count": null,
   "metadata": {},
   "outputs": [],
   "source": [
    "foo = 964982703\n",
    "converted = datetime.datetime.fromtimestamp(foo)\n",
    "\n",
    "print(converted.isoformat())\n",
    "print(converted.date().isoformat())\n",
    "print(converted.year)\n",
    "print(converted.weekday())"
   ]
  },
  {
   "cell_type": "code",
   "execution_count": null,
   "metadata": {},
   "outputs": [],
   "source": [
    "# We cannot use it directly because we have a whole series.\n",
    "\n",
    "ratings.assign(date = datetime.datetime.fromtimestamp(ratings.timestamp)).head()"
   ]
  },
  {
   "cell_type": "code",
   "execution_count": null,
   "metadata": {},
   "outputs": [],
   "source": [
    "# We need to \"wrap\" the fuction with a lambda so that it can be run on each value in the column.\n",
    "\n",
    "ratings[\"date_full\"] = (ratings.timestamp.apply(lambda x: datetime.datetime.fromtimestamp(x).date().isoformat()))\n",
    "ratings[\"date_year\"] = (ratings.timestamp.apply(lambda x: datetime.datetime.fromtimestamp(x).year))\n",
    "ratings.head()"
   ]
  },
  {
   "cell_type": "code",
   "execution_count": null,
   "metadata": {},
   "outputs": [],
   "source": [
    "ratings.groupby(\"date_year\").count()"
   ]
  }
 ],
 "metadata": {
  "kernelspec": {
   "display_name": "Python 3",
   "language": "python",
   "name": "python3"
  },
  "language_info": {
   "codemirror_mode": {
    "name": "ipython",
    "version": 3
   },
   "file_extension": ".py",
   "mimetype": "text/x-python",
   "name": "python",
   "nbconvert_exporter": "python",
   "pygments_lexer": "ipython3",
   "version": "3.7.4"
  }
 },
 "nbformat": 4,
 "nbformat_minor": 2
}
