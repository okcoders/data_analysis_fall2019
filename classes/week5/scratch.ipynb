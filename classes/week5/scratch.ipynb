{
 "cells": [
  {
   "cell_type": "code",
   "execution_count": 2,
   "metadata": {},
   "outputs": [],
   "source": [
    "import pandas as pd"
   ]
  },
  {
   "cell_type": "code",
   "execution_count": 15,
   "metadata": {},
   "outputs": [
    {
     "name": "stdout",
     "output_type": "stream",
     "text": [
      "movies: 9742\n",
      "ratings: 100836\n",
      "tags: 3683\n"
     ]
    }
   ],
   "source": [
    "dir_path = \"../../data/ml-latest-small\"\n",
    "movies = pd.read_csv(f\"{dir_path}/movies.csv\")\n",
    "ratings = pd.read_csv(f\"{dir_path}/ratings.csv\")\n",
    "tags = pd.read_csv(f\"{dir_path}/tags.csv\")\n",
    "\n",
    "print(f\"movies: {len(movies)}\")\n",
    "print(f\"ratings: {len(ratings)}\")\n",
    "print(f\"tags: {len(tags)}\")"
   ]
  },
  {
   "cell_type": "code",
   "execution_count": 8,
   "metadata": {},
   "outputs": [
    {
     "data": {
      "text/html": [
       "<div>\n",
       "<style scoped>\n",
       "    .dataframe tbody tr th:only-of-type {\n",
       "        vertical-align: middle;\n",
       "    }\n",
       "\n",
       "    .dataframe tbody tr th {\n",
       "        vertical-align: top;\n",
       "    }\n",
       "\n",
       "    .dataframe thead th {\n",
       "        text-align: right;\n",
       "    }\n",
       "</style>\n",
       "<table border=\"1\" class=\"dataframe\">\n",
       "  <thead>\n",
       "    <tr style=\"text-align: right;\">\n",
       "      <th></th>\n",
       "      <th>movieId</th>\n",
       "    </tr>\n",
       "    <tr>\n",
       "      <th>tag</th>\n",
       "      <th></th>\n",
       "    </tr>\n",
       "  </thead>\n",
       "  <tbody>\n",
       "    <tr>\n",
       "      <td>time travel</td>\n",
       "      <td>16</td>\n",
       "    </tr>\n",
       "  </tbody>\n",
       "</table>\n",
       "</div>"
      ],
      "text/plain": [
       "             movieId\n",
       "tag                 \n",
       "time travel       16"
      ]
     },
     "execution_count": 8,
     "metadata": {},
     "output_type": "execute_result"
    }
   ],
   "source": [
    "(tags\n",
    "    .groupby(\"tag\").count()\n",
    "    .drop(columns = [\"userId\", \"timestamp\"])\n",
    "    .query(\"tag == 'time travel'\")\n",
    ")"
   ]
  },
  {
   "cell_type": "code",
   "execution_count": 61,
   "metadata": {},
   "outputs": [
    {
     "name": "stdout",
     "output_type": "stream",
     "text": [
      "['atmospheric', 'thought-provoking', 'hallucinatory', 'sci-fi', 'dreamlike', 'comedy', 'cult film', 'classic']\n"
     ]
    },
    {
     "data": {
      "text/plain": [
       "<matplotlib.axes._subplots.AxesSubplot at 0x1181e2490>"
      ]
     },
     "execution_count": 61,
     "metadata": {},
     "output_type": "execute_result"
    },
    {
     "data": {
      "image/png": "[encoded data removed]",
      "text/plain": [
       "<Figure size 864x288 with 1 Axes>"
      ]
     },
     "metadata": {
      "needs_background": "light"
     },
     "output_type": "display_data"
    }
   ],
   "source": [
    "focus = [\"space\", \"surreal\", \"funny\"]\n",
    "has_focus_tag = tags[tags.tag.isin(focus)].movieId\n",
    "\n",
    "output = (tags\n",
    "    [(tags.movieId.isin(has_focus_tag)) & ~(tags.tag.isin(focus))]\n",
    "    .drop(columns = [\"timestamp\", \"userId\"])\n",
    "    .groupby(\"tag\").count()\n",
    "    .rename(columns = {\"movieId\":\"n_movies\"})\n",
    "    .sort_values(\"n_movies\", ascending = False)\n",
    "    .head(8)\n",
    ")\n",
    "\n",
    "print(list(output.index))\n",
    "output.plot.bar(y = \"n_movies\", figsize = (12,4))"
   ]
  },
  {
   "cell_type": "code",
   "execution_count": null,
   "metadata": {},
   "outputs": [],
   "source": []
  },
  {
   "cell_type": "code",
   "execution_count": null,
   "metadata": {},
   "outputs": [],
   "source": []
  }
 ],
 "metadata": {
  "kernelspec": {
   "display_name": "Python 3",
   "language": "python",
   "name": "python3"
  },
  "language_info": {
   "codemirror_mode": {
    "name": "ipython",
    "version": 3
   },
   "file_extension": ".py",
   "mimetype": "text/x-python",
   "name": "python",
   "nbconvert_exporter": "python",
   "pygments_lexer": "ipython3",
   "version": "3.7.4"
  }
 },
 "nbformat": 4,
 "nbformat_minor": 2
}
