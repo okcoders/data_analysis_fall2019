{
 "cells": [
  {
   "cell_type": "markdown",
   "metadata": {},
   "source": [
    "### Loading Data: CSV"
   ]
  },
  {
   "cell_type": "code",
   "execution_count": null,
   "metadata": {},
   "outputs": [],
   "source": [
    "import pandas as pd"
   ]
  },
  {
   "cell_type": "code",
   "execution_count": null,
   "metadata": {},
   "outputs": [],
   "source": [
    "# Local: when the data is in the same folder the code.\n",
    "company_emp_local = pd.read_csv(\"company_employees.csv\")\n",
    "print(len(company_emp_local))\n",
    "company_emp_local.head()"
   ]
  },
  {
   "cell_type": "code",
   "execution_count": null,
   "metadata": {},
   "outputs": [],
   "source": [
    "# Remote: when the data is in a different folder but still accessible to the code.\n",
    "company_emp_rem = pd.read_csv(\"../../data/company_employees.csv\")\n",
    "print(len(company_emp_rem))\n",
    "# company_emp_rem.head()"
   ]
  },
  {
   "cell_type": "code",
   "execution_count": null,
   "metadata": {},
   "outputs": [],
   "source": [
    "# Finer Control: we can control exactly how the data reader works.\n",
    "# https://pandas.pydata.org/pandas-docs/stable/reference/api/pandas.read_csv.html?highlight=read_csv#pandas.read_csv\n",
    "\n",
    "company_emp = pd.read_csv(\"../../data/company_employees.csv\", sep = \",\", header = \"infer\")\n",
    "\n",
    "col_names = [\"emp_id\", \"first\", \"last\", \"email_address\", \"gender\", \"comp_name\", \"random_number\"]\n",
    "company_emp = pd.read_csv(\"../../data/company_employees.csv\", sep = \",\", header = None, names = col_names)\n",
    "company_emp.head()"
   ]
  },
  {
   "cell_type": "markdown",
   "metadata": {},
   "source": [
    "### Loading Data: JSON\n",
    "\n",
    "JavaScript Object Notation (JSON) is a common method of data encoding that uses a very small subset of JavaScript data types to encode data. These data types are very similar to familiar types in Python. The advantage of JSON is that it contains within itself the information about how the data should be structured and what data types each part is. We will be working with a very specific style of JSON that will encode tabular data like we have seen so far."
   ]
  },
  {
   "cell_type": "code",
   "execution_count": null,
   "metadata": {},
   "outputs": [],
   "source": [
    "emp = pd.read_json(\"../../data/company_employees.json\")\n",
    "print(len(emp))\n",
    "emp.tail()"
   ]
  },
  {
   "cell_type": "markdown",
   "metadata": {},
   "source": [
    "### Loading Data: SQL/SQLite"
   ]
  },
  {
   "cell_type": "code",
   "execution_count": null,
   "metadata": {},
   "outputs": [],
   "source": [
    "import sqlite3"
   ]
  },
  {
   "cell_type": "code",
   "execution_count": null,
   "metadata": {},
   "outputs": [],
   "source": [
    "emp_db = sqlite3.connect(\"../../data/company_employees.db\")"
   ]
  },
  {
   "cell_type": "code",
   "execution_count": null,
   "metadata": {},
   "outputs": [],
   "source": [
    "query = '''\n",
    "    SELECT count(1)\n",
    "    FROM employees\n",
    "'''\n",
    "pd.read_sql(query, con = emp_db)"
   ]
  },
  {
   "cell_type": "code",
   "execution_count": null,
   "metadata": {},
   "outputs": [],
   "source": [
    "query = '''\n",
    "    SELECT \n",
    "        id, first_name, last_name, email, country\n",
    "    FROM employees as e\n",
    "    WHERE e. country = 'Kenya'\n",
    "        OR e.total_worth BETWEEN 47 and 51\n",
    "    ORDER BY e.last_name ASC\n",
    "'''\n",
    "pd.read_sql(query, con = emp_db)"
   ]
  },
  {
   "cell_type": "markdown",
   "metadata": {},
   "source": [
    "### Computing New Columns"
   ]
  },
  {
   "cell_type": "code",
   "execution_count": null,
   "metadata": {},
   "outputs": [],
   "source": [
    "import pydataset as ds"
   ]
  },
  {
   "cell_type": "code",
   "execution_count": null,
   "metadata": {},
   "outputs": [],
   "source": [
    "cars = ds.data('mtcars')\n",
    "cars.head()"
   ]
  },
  {
   "cell_type": "code",
   "execution_count": null,
   "metadata": {},
   "outputs": [],
   "source": [
    "cars.assign(disp_per_cyl = cars.disp / cars.cyl).head()"
   ]
  },
  {
   "cell_type": "code",
   "execution_count": null,
   "metadata": {},
   "outputs": [],
   "source": [
    "cars[\"disp_per_cyl\"] = cars.disp / cars.cyl\n",
    "cars.tail()"
   ]
  },
  {
   "cell_type": "markdown",
   "metadata": {},
   "source": [
    "### Aggregations"
   ]
  },
  {
   "cell_type": "code",
   "execution_count": null,
   "metadata": {},
   "outputs": [],
   "source": [
    "cars.groupby(\"cyl\").size()"
   ]
  },
  {
   "cell_type": "code",
   "execution_count": null,
   "metadata": {},
   "outputs": [],
   "source": [
    "cars.groupby(\"am\").size()"
   ]
  },
  {
   "cell_type": "code",
   "execution_count": null,
   "metadata": {},
   "outputs": [],
   "source": [
    "cars.groupby(\"cyl\")[\"hp\"].mean()"
   ]
  },
  {
   "cell_type": "code",
   "execution_count": null,
   "metadata": {},
   "outputs": [],
   "source": [
    "cars.groupby(\"cyl\")[[\"hp\", \"mpg\"]].mean()"
   ]
  },
  {
   "cell_type": "code",
   "execution_count": null,
   "metadata": {},
   "outputs": [],
   "source": [
    "cars.groupby(\"cyl\").mean()[[\"hp\", \"mpg\"]]"
   ]
  },
  {
   "cell_type": "code",
   "execution_count": null,
   "metadata": {},
   "outputs": [],
   "source": [
    "# You can wrap the whole thing with parens to make the steps of the logic easier to follow.\n",
    "\n",
    "(cars\n",
    "    .groupby(\"cyl\")\n",
    "    [[\"hp\", \"mpg\"]]\n",
    "    .mean()\n",
    ")"
   ]
  },
  {
   "cell_type": "code",
   "execution_count": null,
   "metadata": {},
   "outputs": [],
   "source": [
    "cars.groupby(\"cyl\")[[\"carb\"]].nunique()"
   ]
  },
  {
   "cell_type": "code",
   "execution_count": null,
   "metadata": {},
   "outputs": [],
   "source": [
    "# There are a lot of operations that you can do.\n",
    "# https://pandas.pydata.org/pandas-docs/stable/reference/groupby.html"
   ]
  }
 ],
 "metadata": {
  "kernelspec": {
   "display_name": "Python 3",
   "language": "python",
   "name": "python3"
  },
  "language_info": {
   "codemirror_mode": {
    "name": "ipython",
    "version": 3
   },
   "file_extension": ".py",
   "mimetype": "text/x-python",
   "name": "python",
   "nbconvert_exporter": "python",
   "pygments_lexer": "ipython3",
   "version": "3.7.4"
  }
 },
 "nbformat": 4,
 "nbformat_minor": 2
}
