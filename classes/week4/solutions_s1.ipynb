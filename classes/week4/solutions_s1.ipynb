{
 "cells": [
  {
   "cell_type": "code",
   "execution_count": null,
   "metadata": {},
   "outputs": [],
   "source": [
    "# Load the mtcars dataset from pydataset\n",
    "\n",
    "import pydataset as ds\n",
    "cars = ds.data('mtcars')"
   ]
  },
  {
   "cell_type": "code",
   "execution_count": null,
   "metadata": {},
   "outputs": [],
   "source": [
    "# Create a new column in cars that shows the disp to horsepower ratio. Which 3 cars are the worst? best?\n",
    "\n",
    "cars[\"dh_ratio\"] = cars.disp / cars.hp\n",
    "cars.sort_values(\"dh_ratio\", ascending = False).head(3)\n",
    "cars.sort_values(\"dh_ratio\", ascending = True).head(3)"
   ]
  },
  {
   "cell_type": "code",
   "execution_count": null,
   "metadata": {},
   "outputs": [],
   "source": [
    "# Produce a list of all cars in the set that are 1 second or more faster than the average \n",
    "# quarter mile time (qsec) of the entire group.\n",
    "\n",
    "mean_qsec = cars.qsec.mean()\n",
    "cars[\"qsec_vs_mean\"] = cars.qsec - mean_qsec\n",
    "cars[cars.qsec_vs_mean <= -1]"
   ]
  },
  {
   "cell_type": "markdown",
   "metadata": {},
   "source": [
    "### With outside data"
   ]
  },
  {
   "cell_type": "code",
   "execution_count": null,
   "metadata": {},
   "outputs": [],
   "source": [
    "# Load pandas and the company employees JSON dataset.\n",
    "\n",
    "import pandas as pd\n",
    "\n",
    "emp = pd.read_json(\"../../data/company_employees.json\")\n",
    "emp.head()"
   ]
  },
  {
   "cell_type": "code",
   "execution_count": null,
   "metadata": {},
   "outputs": [],
   "source": [
    "# How many companies have more than 1 people?\n",
    "\n",
    "by_comp = emp.groupby(\"company\").size()\n",
    "by_comp[by_comp > 1].count()"
   ]
  },
  {
   "cell_type": "code",
   "execution_count": null,
   "metadata": {},
   "outputs": [],
   "source": [
    "# Which 3 company(ies) have the most total 'worth'?\n",
    "\n",
    "(emp\n",
    "    .groupby(\"company\")\n",
    "    [[\"total_worth\"]]\n",
    "    .sum()\n",
    "    .sort_values(\"total_worth\", ascending = False)\n",
    "    .head(3)\n",
    ")"
   ]
  },
  {
   "cell_type": "code",
   "execution_count": null,
   "metadata": {},
   "outputs": [],
   "source": [
    "# How many people are missing a value for total worth? Which are there more of, men or women?\n",
    "# Hint: the sum of a boolean column is the same as the count of times that it is True.\n",
    "\n",
    "print(len(emp[pd.isnull(emp.total_worth)]))\n",
    "\n",
    "(emp\n",
    "    .assign(worth_missing = pd.isnull(emp.total_worth))\n",
    "    [[\"id\", \"gender\", \"worth_missing\"]]\n",
    "    .groupby(\"gender\").sum()\n",
    ")"
   ]
  },
  {
   "cell_type": "code",
   "execution_count": null,
   "metadata": {},
   "outputs": [],
   "source": [
    "# Building on that, if a person is management, are they more or less likely to be missing their \n",
    "# total_worth value? (It is safe to filter out those we don't know if they are management or not).\n",
    "# Hint: think about what the mean of a boolean colum would represent if True=1 and False=0\n",
    "\n",
    "(emp\n",
    "    .assign(worth_missing = pd.isnull(emp.total_worth))\n",
    "    [[\"id\", \"is_management\", \"worth_missing\"]]\n",
    "    .groupby(\"is_management\").mean()\n",
    ")"
   ]
  }
 ],
 "metadata": {
  "kernelspec": {
   "display_name": "Python 3",
   "language": "python",
   "name": "python3"
  },
  "language_info": {
   "codemirror_mode": {
    "name": "ipython",
    "version": 3
   },
   "file_extension": ".py",
   "mimetype": "text/x-python",
   "name": "python",
   "nbconvert_exporter": "python",
   "pygments_lexer": "ipython3",
   "version": "3.7.4"
  }
 },
 "nbformat": 4,
 "nbformat_minor": 2
}
