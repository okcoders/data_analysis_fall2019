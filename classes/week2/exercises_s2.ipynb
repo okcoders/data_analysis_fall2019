{
 "cells": [
  {
   "cell_type": "code",
   "execution_count": null,
   "metadata": {},
   "outputs": [],
   "source": [
    "colors = [\"blue\", \"green\", \"blue\", \"red\", \"red\", \"orange\", None, \"red\", \"blue\"]"
   ]
  },
  {
   "cell_type": "code",
   "execution_count": null,
   "metadata": {},
   "outputs": [],
   "source": [
    "# How many total elements are there to the colors list?\n",
    "\n"
   ]
  },
  {
   "cell_type": "code",
   "execution_count": null,
   "metadata": {},
   "outputs": [],
   "source": [
    "# Go through the colors and anytime the color is blue, print \"I feel blue\" to the screen, otherwise\n",
    "# print \"things are great\" to the screen\n",
    "\n"
   ]
  },
  {
   "cell_type": "code",
   "execution_count": null,
   "metadata": {},
   "outputs": [],
   "source": [
    "# Count from 1 to 25, but anytime a value is evenly divisible by 3 print \"Fizz\", anytime a value is\n",
    "# evenly divisible by 5 print \"Buzz\", and anytime a value is evenly divisble by 3 & 5 print \"FizzBuzz\".\n",
    "# HINT: https://stackoverflow.com/questions/4432208/what-is-the-result-of-in-python\n",
    "\n"
   ]
  },
  {
   "cell_type": "code",
   "execution_count": null,
   "metadata": {},
   "outputs": [],
   "source": [
    "# Build on your previous code by making it a function that takes in a starting and ending number. Test it by\n",
    "# running it on two sets of numbers, one of which must start higher than 1000.\n",
    "\n"
   ]
  },
  {
   "cell_type": "code",
   "execution_count": null,
   "metadata": {},
   "outputs": [],
   "source": [
    "# Make another version of this function that takes only a single number, and then runs until it finds the first\n",
    "# FizzBuzz and then stops. It should return the value of the first one found.\n",
    "\n"
   ]
  },
  {
   "cell_type": "code",
   "execution_count": null,
   "metadata": {},
   "outputs": [],
   "source": [
    "# Project Euler Problem 5: https://www.projecteuler.net/problem=5 (modified)\n",
    "# 2520 is the smallest number that can be divided by each of the numbers from 1 to 10 without any remainder.\n",
    "# What is the smallest positive number that is evenly divisible by all of the numbers from 1 to 17?\n",
    "\n"
   ]
  }
 ],
 "metadata": {
  "kernelspec": {
   "display_name": "Python 3",
   "language": "python",
   "name": "python3"
  },
  "language_info": {
   "codemirror_mode": {
    "name": "ipython",
    "version": 3
   },
   "file_extension": ".py",
   "mimetype": "text/x-python",
   "name": "python",
   "nbconvert_exporter": "python",
   "pygments_lexer": "ipython3",
   "version": "3.7.4"
  }
 },
 "nbformat": 4,
 "nbformat_minor": 2
}
