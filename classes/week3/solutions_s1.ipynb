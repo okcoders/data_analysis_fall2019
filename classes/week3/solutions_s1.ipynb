{
 "cells": [
  {
   "cell_type": "markdown",
   "metadata": {},
   "source": [
    "### Colors List"
   ]
  },
  {
   "cell_type": "code",
   "execution_count": null,
   "metadata": {},
   "outputs": [],
   "source": [
    "colors = [\"blue\", \"green\", \"blue\", \"red\", \"red\", \"orange\", None, \"red\", \"blue\"]"
   ]
  },
  {
   "cell_type": "code",
   "execution_count": null,
   "metadata": {},
   "outputs": [],
   "source": [
    "# How many total elements are there to the colors list?\n",
    "\n",
    "len(colors)"
   ]
  },
  {
   "cell_type": "code",
   "execution_count": null,
   "metadata": {},
   "outputs": [],
   "source": [
    "# Print to screen only the first 5 elements of the colors list\n",
    "\n",
    "colors[:5]"
   ]
  },
  {
   "cell_type": "code",
   "execution_count": null,
   "metadata": {},
   "outputs": [],
   "source": [
    "# Print to screen the 2nd through the 7th element\n",
    "colors[2:8]"
   ]
  },
  {
   "cell_type": "code",
   "execution_count": null,
   "metadata": {},
   "outputs": [],
   "source": [
    "# Print only the last element of the colors list\n",
    "colors[-1]"
   ]
  },
  {
   "cell_type": "markdown",
   "metadata": {},
   "source": [
    "### Numeric List"
   ]
  },
  {
   "cell_type": "code",
   "execution_count": null,
   "metadata": {},
   "outputs": [],
   "source": [
    "data = [17.2, 31.8, 20.6, 77.9, 5.0, -11.34, 40.62]"
   ]
  },
  {
   "cell_type": "code",
   "execution_count": null,
   "metadata": {},
   "outputs": [],
   "source": [
    "# What is the sum of the values in the data list?\n",
    "\n",
    "sum(data)"
   ]
  },
  {
   "cell_type": "code",
   "execution_count": null,
   "metadata": {},
   "outputs": [],
   "source": [
    "# Test whether the number 5.0 is in the data?\n",
    "\n",
    "5.0 in data"
   ]
  },
  {
   "cell_type": "code",
   "execution_count": null,
   "metadata": {},
   "outputs": [],
   "source": [
    "# Calculate the maximum value of the last 3 elements\n",
    "\n",
    "max(data[-3:])"
   ]
  },
  {
   "cell_type": "code",
   "execution_count": null,
   "metadata": {},
   "outputs": [],
   "source": [
    "# Show all the values except the first and last ones\n",
    "\n",
    "data[1:-1]"
   ]
  },
  {
   "cell_type": "markdown",
   "metadata": {},
   "source": [
    "### Dicts"
   ]
  },
  {
   "cell_type": "code",
   "execution_count": null,
   "metadata": {},
   "outputs": [],
   "source": [
    "# Create a dictionary that shows your name as a string, age as an integer, your 2-4 favorite hobbies as a\n",
    "# list of strings, and the sum of the first 6 elements of the data list as a float. Name the dict \"you\".\n",
    "\n",
    "you = {\n",
    "    \"name\": \"Frank\",\n",
    "    \"age\": 36,\n",
    "    \"hobbies\": [\"skiing\", \"guitar\", \"modeling\", \"programming\"],\n",
    "    \"sum_elements\": sum(data[:6])\n",
    "}"
   ]
  },
  {
   "cell_type": "code",
   "execution_count": null,
   "metadata": {},
   "outputs": [],
   "source": [
    "# Print only your last 2 hobbies.\n",
    "\n",
    "you[\"hobbies\"][-2:]"
   ]
  },
  {
   "cell_type": "code",
   "execution_count": null,
   "metadata": {},
   "outputs": [],
   "source": [
    "# Print whether \"address\" appears as one of the keys in your dict.\n",
    "\n",
    "\"address\" in you"
   ]
  },
  {
   "cell_type": "markdown",
   "metadata": {},
   "source": [
    "### Control Flow & Loops"
   ]
  },
  {
   "cell_type": "code",
   "execution_count": null,
   "metadata": {},
   "outputs": [],
   "source": [
    "# Go through the colors and anytime the color is blue, print \"I feel blue\" to the screen, otherwise\n",
    "# print \"things are great\" to the screen\n",
    "\n",
    "for i in colors:\n",
    "    if (i == \"blue\"):\n",
    "        print(i, \"I feel blue\")\n",
    "    else:\n",
    "        print(i, \"things are great\")"
   ]
  },
  {
   "cell_type": "code",
   "execution_count": null,
   "metadata": {},
   "outputs": [],
   "source": [
    "# Go through each value in the numeric data, and add up all values larger than 20.\n",
    "\n",
    "total = 0\n",
    "for i in data:\n",
    "    if (i > 20):\n",
    "        total += i\n",
    "\n",
    "print(total)"
   ]
  },
  {
   "cell_type": "code",
   "execution_count": null,
   "metadata": {},
   "outputs": [],
   "source": [
    "# Count from 1 to 25, but anytime a value is evenly divisible by 3 print \"Fizz\", anytime a value is\n",
    "# evenly divisible by 5 print \"Buzz\", and anytime a value is evenly divisble by 3 & 5 print \"FizzBuzz\".\n",
    "# HINT: https://stackoverflow.com/questions/4432208/what-is-the-result-of-in-python\n",
    "\n",
    "for i in range(1, 26):\n",
    "    if (i % 3 == 0):\n",
    "        if (i % 5 == 0):\n",
    "            print(\"FizzBuzz\")\n",
    "        else:\n",
    "            print(\"Fizz\")\n",
    "    elif (i % 5 == 0):\n",
    "        print(\"Buzz\")\n",
    "    else:\n",
    "        print(i)\n"
   ]
  },
  {
   "cell_type": "code",
   "execution_count": null,
   "metadata": {},
   "outputs": [],
   "source": [
    "# Build on your previous code by making it a function that takes in a starting and ending number. Test it by\n",
    "# running it on two sets of numbers, one of which must start higher than 1000.\n",
    "\n",
    "def fizzbuzz(start, end):\n",
    "    for i in range(start, end + 1):\n",
    "        if (i % 3 == 0):\n",
    "            if (i % 5 == 0):\n",
    "                print(\"FizzBuzz\")\n",
    "            else:\n",
    "                print(\"Fizz\")\n",
    "        elif (i % 5 == 0):\n",
    "            print(\"Buzz\")\n",
    "        else:\n",
    "            print(i)\n",
    "\n",
    "# Uncomment either of these tests to run them\n",
    "# fizzbuzz(38, 66)\n",
    "# fizzbuzz(1093, 1140)"
   ]
  },
  {
   "cell_type": "code",
   "execution_count": null,
   "metadata": {},
   "outputs": [],
   "source": [
    "# Make another version of this function that takes only a single number, and then runs until it finds the first\n",
    "# FizzBuzz and then stops. It should return the value of the first one found.\n",
    "\n",
    "def fizzbuzz_once(start):\n",
    "    found = False\n",
    "    while not found:\n",
    "        if (start % 3 == 0) and (start % 5 == 0):\n",
    "            return start\n",
    "        else:\n",
    "            start += 1\n",
    "\n",
    "# fizzbuzz_once(101)\n",
    "# fizzbuzz_once(105)\n",
    "# fizzbuzz_once(107)"
   ]
  },
  {
   "cell_type": "code",
   "execution_count": null,
   "metadata": {},
   "outputs": [],
   "source": [
    "# Project Euler Problem 5: https://www.projecteuler.net/problem=5 (modified)\n",
    "# 2520 is the smallest number that can be divided by each of the numbers from 1 to 10 without any remainder.\n",
    "# What is the smallest positive number that is evenly divisible by all of the numbers from 1 to 17?\n",
    "\n",
    "def evenly_divisible(value, start, end):\n",
    "    for i in range(start, end + 1):\n",
    "        if not (value % i == 0):\n",
    "            return False\n",
    "    \n",
    "    return True\n",
    "\n",
    "def search(start, end):\n",
    "    candidate = 1\n",
    "    while not evenly_divisible(candidate, start, end):\n",
    "        candidate += 1\n",
    "    \n",
    "    return candidate\n",
    "\n",
    "\n",
    "# evenly_divisible(value = 2520, start = 1, end = 10)\n",
    "search(1, 5)\n",
    "search(1, 10)\n",
    "search(1, 17)"
   ]
  }
 ],
 "metadata": {
  "kernelspec": {
   "display_name": "Python 3",
   "language": "python",
   "name": "python3"
  },
  "language_info": {
   "codemirror_mode": {
    "name": "ipython",
    "version": 3
   },
   "file_extension": ".py",
   "mimetype": "text/x-python",
   "name": "python",
   "nbconvert_exporter": "python",
   "pygments_lexer": "ipython3",
   "version": "3.7.4"
  }
 },
 "nbformat": 4,
 "nbformat_minor": 2
}
