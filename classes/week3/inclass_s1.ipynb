{
 "cells": [
  {
   "cell_type": "code",
   "execution_count": 8,
   "metadata": {},
   "outputs": [],
   "source": [
    "# Functions\n",
    "nums = [20, 25, 30, 35, 40, 1093.508]"
   ]
  },
  {
   "cell_type": "code",
   "execution_count": 6,
   "metadata": {},
   "outputs": [
    {
     "data": {
      "text/plain": [
       "150"
      ]
     },
     "execution_count": 6,
     "metadata": {},
     "output_type": "execute_result"
    }
   ],
   "source": [
    "total = 0\n",
    "for n in nums:\n",
    "    total += n\n",
    "\n",
    "total"
   ]
  },
  {
   "cell_type": "code",
   "execution_count": 9,
   "metadata": {},
   "outputs": [
    {
     "data": {
      "text/plain": [
       "1243.508"
      ]
     },
     "execution_count": 9,
     "metadata": {},
     "output_type": "execute_result"
    }
   ],
   "source": [
    "sum(nums)"
   ]
  },
  {
   "cell_type": "code",
   "execution_count": 11,
   "metadata": {},
   "outputs": [],
   "source": [
    "def sum_okc(elements):\n",
    "    total = 0\n",
    "    for n in elements:\n",
    "        total += n\n",
    "\n",
    "    return total"
   ]
  },
  {
   "cell_type": "code",
   "execution_count": 12,
   "metadata": {},
   "outputs": [],
   "source": [
    "total_val = sum_okc(nums)"
   ]
  },
  {
   "cell_type": "code",
   "execution_count": 14,
   "metadata": {},
   "outputs": [
    {
     "name": "stdout",
     "output_type": "stream",
     "text": [
      "1243.508\n"
     ]
    }
   ],
   "source": [
    "print(total_val)"
   ]
  },
  {
   "cell_type": "code",
   "execution_count": 20,
   "metadata": {},
   "outputs": [
    {
     "name": "stdout",
     "output_type": "stream",
     "text": [
      "42953.11516844445\n"
     ]
    }
   ],
   "source": [
    "def average_squared(elements):\n",
    "    n_elements = len(elements)\n",
    "    sum_elements = sum_okc(elements)\n",
    "    avg = sum_elements / n_elements\n",
    "    avg_sq = avg ** 2\n",
    "    return avg_sq\n",
    "\n",
    "\n",
    "print(average_squared(nums))"
   ]
  },
  {
   "cell_type": "code",
   "execution_count": 23,
   "metadata": {},
   "outputs": [
    {
     "name": "stdout",
     "output_type": "stream",
     "text": [
      "1590.015625\n",
      "5700.25\n"
     ]
    }
   ],
   "source": [
    "print(average_squared([-2.5, 29, 101, 32]))\n",
    "print(average_squared(range(46, 106)))"
   ]
  },
  {
   "cell_type": "code",
   "execution_count": 38,
   "metadata": {},
   "outputs": [
    {
     "name": "stdout",
     "output_type": "stream",
     "text": [
      "2\n",
      "42953.11516844445\n",
      "4\n",
      "1844970102.673653\n",
      "7\n"
     ]
    }
   ],
   "source": [
    "power = 7\n",
    "\n",
    "def average_power(elements, power):\n",
    "    print(power)\n",
    "    n_elements = len(elements)\n",
    "    sum_elements = sum_okc(elements)\n",
    "    avg = sum_elements / n_elements\n",
    "    avg_sq = avg ** power\n",
    "    power = 99\n",
    "    return avg_sq\n",
    "\n",
    "\n",
    "print(average_power(nums, 2))\n",
    "print(average_power(nums, 4))\n",
    "print(power)"
   ]
  }
 ],
 "metadata": {
  "kernelspec": {
   "display_name": "Python 3",
   "language": "python",
   "name": "python3"
  },
  "language_info": {
   "codemirror_mode": {
    "name": "ipython",
    "version": 3
   },
   "file_extension": ".py",
   "mimetype": "text/x-python",
   "name": "python",
   "nbconvert_exporter": "python",
   "pygments_lexer": "ipython3",
   "version": "3.7.4"
  }
 },
 "nbformat": 4,
 "nbformat_minor": 2
}
